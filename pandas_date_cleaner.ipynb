{
  "nbformat": 4,
  "nbformat_minor": 0,
  "metadata": {
    "colab": {
      "provenance": [],
      "authorship_tag": "ABX9TyOawLeEoieg6JEg1UHB4sZ5",
      "include_colab_link": true
    },
    "kernelspec": {
      "name": "python3",
      "display_name": "Python 3"
    },
    "language_info": {
      "name": "python"
    }
  },
  "cells": [
    {
      "cell_type": "markdown",
      "metadata": {
        "id": "view-in-github",
        "colab_type": "text"
      },
      "source": [
        "<a href=\"https://colab.research.google.com/github/AIwithMallesh/pandas-date-cleaner/blob/main/pandas_date_cleaner.ipynb\" target=\"_parent\"><img src=\"https://colab.research.google.com/assets/colab-badge.svg\" alt=\"Open In Colab\"/></a>"
      ]
    },
    {
      "cell_type": "code",
      "execution_count": 2,
      "metadata": {
        "id": "SOJo97sreeYx"
      },
      "outputs": [],
      "source": [
        "# Messy Dates? No Problem: A Pandas Cleaning Adventure\n",
        "\n",
        "Dates in data are like that one sock that always disappears—annoying and inconsistent. In this notebook, we'll:\n",
        "- Load a sample dataset with event dates in wild formats.\n",
        "- Spot the chaos (exploratory data analysis).\n",
        "- Clean 'em up using `pd.to_datetime` magic.\n",
        "- Validate and visualize (because who doesn't love a timeline?).\n",
        "- Export the shiny result.\n",
        "\n",
        "This is inspired by real-world pains, like scraping event calendars or merging CSVs from different sources.\n",
        "\n",
        "Let's dive in!"
      ]
    },
    {
      "cell_type": "code",
      "source": [
        "# Standard imports—keeping it simple, no extras needed\n",
        "import pandas as pd\n",
        "import matplotlib.pyplot as plt\n",
        "import numpy as np  # Just in case for random data gen\n",
        "\n",
        "# Set some pandas options for nicer output\n",
        "pd.set_option('display.max_columns', None)\n",
        "pd.set_option('display.width', None)\n",
        "\n",
        "print(\"All set! Pandas version:\", pd.__version__)\n"
      ],
      "metadata": {
        "colab": {
          "base_uri": "https://localhost:8080/"
        },
        "id": "Wx5thXn8eyOn",
        "outputId": "80fbfe55-c284-49bd-967a-add993c30f22"
      },
      "execution_count": 3,
      "outputs": [
        {
          "output_type": "stream",
          "name": "stdout",
          "text": [
            "All set! Pandas version: 2.2.2\n"
          ]
        }
      ]
    },
    {
      "cell_type": "code",
      "source": [
        "## Step 1: Whip Up Some Messy Data\n",
        "\n",
        "#We'll create a fake events dataset. Imagine this came from a CSV export of a calendar app gone wrong—dates in DD/MM/YYYY, ISO, US month-day, even typos for fun."
      ],
      "metadata": {
        "id": "zxp8pAdHeyLQ"
      },
      "execution_count": null,
      "outputs": []
    },
    {
      "cell_type": "code",
      "source": [
        "# Let's make a bigger dataset to make it feel \"real\"—say 20 events\n",
        "np.random.seed(42)  # For reproducibility, 'cause why not\n",
        "\n",
        "events = ['Team Meeting', 'Client Pitch', 'Code Review', 'Lunch Break', 'Workshop',\n",
        "          'Conference Call', 'Deadline', 'Brainstorm', 'Debug Session', 'Coffee Run',\n",
        "          'Product Launch', 'Feedback Session', 'Training', 'Bug Hunt', 'Standup',\n",
        "          'Retrospective', 'Sprint Planning', 'Demo Day', 'Hackathon', 'Wrap Party']\n",
        "\n",
        "# Generate mixed-up dates—some good, some bad\n",
        "date_formats = [\n",
        "    '15/05/2023',  # DD/MM/YYYY\n",
        "    '2023-06-10',  # ISO\n",
        "    'July 4, 2023',  # Month DD, YYYY\n",
        "    '10-Jun-23',   # DD-MMM-YY\n",
        "    '2023/12/25',  # YYYY/MM/DD\n",
        "    'Feb 29, 2024', # Invalid leap day? Nah, 2024 is leap\n",
        "    'invalid date lol',  # Garbage\n",
        "    '01-02-2023',  # Ambiguous MM/DD or DD/MM?\n",
        "]\n",
        "\n",
        "# Repeat and shuffle to make 20 entries\n",
        "raw_dates = np.random.choice(date_formats, size=20, replace=True)\n",
        "raw_dates = np.random.permutation(raw_dates)  # Shuffle for variety\n",
        "\n",
        "# Pair with events\n",
        "data_dict = {\n",
        "    'event': np.random.choice(events, size=20, replace=True),\n",
        "    'date_raw': raw_dates,\n",
        "    'description': [f\"Details for {e}\" for e in np.random.choice(events, size=20, replace=True)]\n",
        "}\n",
        "\n",
        "df = pd.DataFrame(data_dict)\n",
        "\n",
        "# Save to CSV for that \"real data\" feel— we'll load it back later if we want\n",
        "df.to_csv('messy_events.csv', index=False)\n",
        "\n",
        "print(\"Sample of the chaos:\")\n",
        "print(df.head(10))\n",
        "print(f\"\\nShape: {df.shape}\")\n",
        "print(f\"Date types: {df['date_raw'].dtype}\")"
      ],
      "metadata": {
        "colab": {
          "base_uri": "https://localhost:8080/"
        },
        "id": "XrWblTzIeyF6",
        "outputId": "9b55dfbe-e592-49d3-9eb9-5c33bc541b27"
      },
      "execution_count": 4,
      "outputs": [
        {
          "output_type": "stream",
          "name": "stdout",
          "text": [
            "Sample of the chaos:\n",
            "              event          date_raw                  description\n",
            "0           Standup        2023/12/25       Details for Brainstorm\n",
            "1         Hackathon      July 4, 2023          Details for Standup\n",
            "2  Feedback Session      July 4, 2023      Details for Code Review\n",
            "3        Wrap Party  invalid date lol         Details for Bug Hunt\n",
            "4       Code Review         10-Jun-23  Details for Sprint Planning\n",
            "5          Workshop        2023/12/25      Details for Lunch Break\n",
            "6         Hackathon        2023/12/25         Details for Demo Day\n",
            "7          Deadline      July 4, 2023       Details for Brainstorm\n",
            "8     Debug Session  invalid date lol      Details for Lunch Break\n",
            "9          Deadline        01-02-2023     Details for Client Pitch\n",
            "\n",
            "Shape: (20, 3)\n",
            "Date types: object\n"
          ]
        }
      ]
    },
    {
      "cell_type": "code",
      "source": [
        "## Step 2: EDA - What's Wrong Here?\n",
        "\n",
        "#Quick peek: All dates are strings (object dtype). But look at those formats—pandas will choke without help."
      ],
      "metadata": {
        "id": "AiOfQvLKeyAI"
      },
      "execution_count": 5,
      "outputs": []
    },
    {
      "cell_type": "code",
      "source": [
        "# Basic info\n",
        "print(\"Dataset Info:\")\n",
        "print(df.info())\n",
        "print(\"\\nUnique date formats (first 10):\")\n",
        "print(df['date_raw'].unique()[:10])\n",
        "\n",
        "# Try a naive parse to see failures\n",
        "df['date_naive'] = pd.to_datetime(df['date_raw'], errors='coerce')\n",
        "failed_count = df['date_naive'].isna().sum()\n",
        "print(f\"\\nNaive parse fails: {failed_count}/{len(df)} dates ({failed_count/len(df)*100:.1f}%)\")\n",
        "\n",
        "print(\"\\nFailed examples:\")\n",
        "print(df[df['date_naive'].isna()][['event', 'date_raw']].head())"
      ],
      "metadata": {
        "colab": {
          "base_uri": "https://localhost:8080/"
        },
        "id": "TsQZ_hjTexyU",
        "outputId": "72055801-7140-4d97-89e8-e8cd58ecdd61"
      },
      "execution_count": 6,
      "outputs": [
        {
          "output_type": "stream",
          "name": "stdout",
          "text": [
            "Dataset Info:\n",
            "<class 'pandas.core.frame.DataFrame'>\n",
            "RangeIndex: 20 entries, 0 to 19\n",
            "Data columns (total 3 columns):\n",
            " #   Column       Non-Null Count  Dtype \n",
            "---  ------       --------------  ----- \n",
            " 0   event        20 non-null     object\n",
            " 1   date_raw     20 non-null     object\n",
            " 2   description  20 non-null     object\n",
            "dtypes: object(3)\n",
            "memory usage: 612.0+ bytes\n",
            "None\n",
            "\n",
            "Unique date formats (first 10):\n",
            "['2023/12/25' 'July 4, 2023' 'invalid date lol' '10-Jun-23' '01-02-2023'\n",
            " '2023-06-10']\n",
            "\n",
            "Naive parse fails: 16/20 dates (80.0%)\n",
            "\n",
            "Failed examples:\n",
            "              event          date_raw\n",
            "1         Hackathon      July 4, 2023\n",
            "2  Feedback Session      July 4, 2023\n",
            "3        Wrap Party  invalid date lol\n",
            "4       Code Review         10-Jun-23\n",
            "7          Deadline      July 4, 2023\n"
          ]
        }
      ]
    },
    {
      "cell_type": "code",
      "source": [
        "## Step 3: Clean Those Dates!\n",
        "\n",
        "#Key trick: `format='mixed'` in `to_datetime`. It auto-detects common formats. Add `dayfirst=True` for Euro-style slashes, and `errors='coerce'` to NaT the trash.\n",
        "\n",
        "#We'll drop the raw col after, but keep it for now to compare."
      ],
      "metadata": {
        "id": "TWHhYmsgexu3"
      },
      "execution_count": null,
      "outputs": []
    },
    {
      "cell_type": "code",
      "source": [
        "# The hero line—tried without 'mixed' first, failed half, so added it\n",
        "df['date_clean'] = pd.to_datetime(\n",
        "    df['date_raw'],\n",
        "    format='mixed',  # Handles the variety\n",
        "    dayfirst=True,   # DD/MM over MM/DD\n",
        "    errors='coerce'  # NaT for invalids\n",
        ")\n",
        "\n",
        "# Check success rate now\n",
        "success_count = df['date_clean'].notna().sum()\n",
        "print(f\"Clean parse success: {success_count}/{len(df)} ({success_count/len(df)*100:.1f}%)\")\n",
        "\n",
        "print(\"\\nBefore/After peek:\")\n",
        "print(df[['date_raw', 'date_clean']].head(10))\n",
        "\n",
        "# Drop raw and rename for cleanliness\n",
        "df = df.drop('date_raw', axis=1)\n",
        "df = df.rename(columns={'date_clean': 'date'})\n",
        "\n",
        "# Sort by date—'cause why not?\n",
        "df = df.sort_values('date').reset_index(drop=True)\n",
        "\n",
        "print(\"\\nSorted & Cleaned DF:\")\n",
        "print(df.head())\n",
        "print(f\"\\nNew dtype: {df['date'].dtype}\")"
      ],
      "metadata": {
        "colab": {
          "base_uri": "https://localhost:8080/"
        },
        "id": "p8WjNJblgT0O",
        "outputId": "d740d43f-cc10-4d91-a9d5-7407c8c1cbc5"
      },
      "execution_count": 7,
      "outputs": [
        {
          "output_type": "stream",
          "name": "stdout",
          "text": [
            "Clean parse success: 16/20 (80.0%)\n",
            "\n",
            "Before/After peek:\n",
            "           date_raw date_clean\n",
            "0        2023/12/25 2023-12-25\n",
            "1      July 4, 2023 2023-07-04\n",
            "2      July 4, 2023 2023-07-04\n",
            "3  invalid date lol        NaT\n",
            "4         10-Jun-23 2023-06-10\n",
            "5        2023/12/25 2023-12-25\n",
            "6        2023/12/25 2023-12-25\n",
            "7      July 4, 2023 2023-07-04\n",
            "8  invalid date lol        NaT\n",
            "9        01-02-2023 2023-02-01\n",
            "\n",
            "Sorted & Cleaned DF:\n",
            "           event                   description date_naive       date\n",
            "0       Deadline      Details for Client Pitch        NaT 2023-02-01\n",
            "1    Lunch Break        Details for Coffee Run        NaT 2023-02-01\n",
            "2  Debug Session  Details for Feedback Session        NaT 2023-02-01\n",
            "3        Standup       Details for Lunch Break        NaT 2023-02-01\n",
            "4    Code Review   Details for Sprint Planning        NaT 2023-06-10\n",
            "\n",
            "New dtype: datetime64[ns]\n"
          ]
        }
      ]
    },
    {
      "cell_type": "code",
      "source": [
        "## Step 4: Validate – Did We Miss Anything?\n",
        "\n",
        "#Count NaTs, maybe fill with a default or flag. For this project, we'll just drop 'em (real life: investigate source)."
      ],
      "metadata": {
        "id": "_XM90O4cgTwz"
      },
      "execution_count": null,
      "outputs": []
    },
    {
      "cell_type": "code",
      "source": [
        "# Any stragglers?\n",
        "nats = df[df['date'].isna()]\n",
        "if len(nats) > 0:\n",
        "    print(f\"Still {len(nats)} NaT rows—dropping for now.\")\n",
        "    df = df.dropna(subset=['date'])\n",
        "    print(\"Dropped. New shape:\", df.shape)\n",
        "else:\n",
        "    print(\"All good! No NaTs left.\")\n",
        "\n",
        "# Quick sanity: Min/max dates\n",
        "print(f\"Date range: {df['date'].min()} to {df['date'].max()}\")"
      ],
      "metadata": {
        "colab": {
          "base_uri": "https://localhost:8080/"
        },
        "id": "nylqaDlMgTuF",
        "outputId": "3b621fc9-5287-47bf-9401-f944be44a364"
      },
      "execution_count": 8,
      "outputs": [
        {
          "output_type": "stream",
          "name": "stdout",
          "text": [
            "Still 4 NaT rows—dropping for now.\n",
            "Dropped. New shape: (16, 4)\n",
            "Date range: 2023-02-01 00:00:00 to 2023-12-25 00:00:00\n"
          ]
        }
      ]
    },
    {
      "cell_type": "code",
      "source": [
        "## Step 5: Viz – Event Timeline\n",
        "\n",
        "#Matplotlib for a simple Gantt-ish plot. Events on Y, dates on X. Fun way to see the flow."
      ],
      "metadata": {
        "id": "k-Q65DrPgTrn"
      },
      "execution_count": null,
      "outputs": []
    },
    {
      "cell_type": "code",
      "source": [
        "# Basic timeline plot—tweaked colors 'cause defaults are meh\n",
        "fig, ax = plt.subplots(figsize=(12, 8))\n",
        "\n",
        "# Plot each event as a point (or bar if you want fancier)\n",
        "for i, row in df.iterrows():\n",
        "    ax.scatter(row['date'], i, s=100, alpha=0.7, color='skyblue', label=row['event'] if i == 0 else \"\")\n",
        "\n",
        "# Labels and stuff\n",
        "ax.set_yticks(range(len(df)))\n",
        "ax.set_yticklabels(df['event'])\n",
        "ax.set_xlabel('Date')\n",
        "ax.set_title('Event Timeline: Cleaned Dates')\n",
        "ax.grid(True, alpha=0.3)\n",
        "\n",
        "# Rotate x for readability\n",
        "plt.xticks(rotation=45)\n",
        "plt.tight_layout()\n",
        "\n",
        "# Show it— in Jupyter this pops up inline\n",
        "plt.show()\n",
        "\n",
        "# Save for Git/LinkedIn\n",
        "plt.savefig('event_timeline.png', dpi=150, bbox_inches='tight')\n",
        "print(\"Plot saved as event_timeline.png\")"
      ],
      "metadata": {
        "colab": {
          "base_uri": "https://localhost:8080/",
          "height": 842
        },
        "id": "gnbPle4LhDxe",
        "outputId": "c182cea7-2058-4cc9-8177-c0e26f1d04f5"
      },
      "execution_count": 9,
      "outputs": [
        {
          "output_type": "display_data",
          "data": {
            "text/plain": [
              "<Figure size 1200x800 with 1 Axes>"
            ],
            "image/png": "[encoded data removed]"
          },
          "metadata": {}
        },
        {
          "output_type": "stream",
          "name": "stdout",
          "text": [
            "Plot saved as event_timeline.png\n"
          ]
        },
        {
          "output_type": "display_data",
          "data": {
            "text/plain": [
              "<Figure size 640x480 with 0 Axes>"
            ]
          },
          "metadata": {}
        }
      ]
    },
    {
      "cell_type": "code",
      "source": [
        "## Step 6: Export & Next Steps\n",
        "\n",
        "# Dump to CSV. In a real pipeline, you'd feed this to a DB or ML model.\n",
        "\n",
        "# Ideas to extend:\n",
        "# - Web scrape dates with BeautifulSoup.\n",
        "# - Handle timezones with pytz.\n",
        "# - Unit tests with pytest."
      ],
      "metadata": {
        "id": "m2CvlJsahfik"
      },
      "execution_count": null,
      "outputs": []
    },
    {
      "cell_type": "code",
      "source": [
        "# Export cleaned data\n",
        "df.to_csv('clean_events.csv', index=False)\n",
        "print(\"Cleaned data saved to clean_events.csv\")\n",
        "\n",
        "print(\"\\nFinal DF Summary:\")\n",
        "print(df.describe(include='all'))  # Quick stats\n",
        "\n"
      ],
      "metadata": {
        "colab": {
          "base_uri": "https://localhost:8080/"
        },
        "id": "qeJn0eGEhfMF",
        "outputId": "e479d5c5-07dd-4fe7-a590-d268bc5b25b9"
      },
      "execution_count": 11,
      "outputs": [
        {
          "output_type": "stream",
          "name": "stdout",
          "text": [
            "Cleaned data saved to clean_events.csv\n",
            "\n",
            "Final DF Summary:\n",
            "           event               description           date_naive  \\\n",
            "count         16                        16                    4   \n",
            "unique        11                        11                  NaN   \n",
            "top     Deadline  Details for Client Pitch                  NaN   \n",
            "freq           2                         2                  NaN   \n",
            "mean         NaN                       NaN  2023-12-25 00:00:00   \n",
            "min          NaN                       NaN  2023-12-25 00:00:00   \n",
            "25%          NaN                       NaN  2023-12-25 00:00:00   \n",
            "50%          NaN                       NaN  2023-12-25 00:00:00   \n",
            "75%          NaN                       NaN  2023-12-25 00:00:00   \n",
            "max          NaN                       NaN  2023-12-25 00:00:00   \n",
            "\n",
            "                       date  \n",
            "count                    16  \n",
            "unique                  NaN  \n",
            "top                     NaN  \n",
            "freq                    NaN  \n",
            "mean    2023-07-04 18:00:00  \n",
            "min     2023-02-01 00:00:00  \n",
            "25%     2023-05-08 18:00:00  \n",
            "50%     2023-07-04 00:00:00  \n",
            "75%     2023-08-16 12:00:00  \n",
            "max     2023-12-25 00:00:00  \n"
          ]
        }
      ]
    }
  ]
}